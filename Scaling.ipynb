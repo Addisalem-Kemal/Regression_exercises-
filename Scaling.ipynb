{
 "cells": [
  {
   "cell_type": "code",
   "execution_count": 34,
   "id": "f3f6d4ca",
   "metadata": {},
   "outputs": [],
   "source": [
    "import warnings\n",
    "warnings.filterwarnings(\"ignore\")\n",
    "\n",
    "import pandas as pd\n",
    "import matplotlib.pyplot as plt\n",
    "import seaborn as sns\n",
    "import numpy as np\n",
    "from env import user, password, host\n",
    "from sklearn.preprocessing import MinMaxScaler, StandardScaler, RobustScaler, QuantileTransformer\n",
    "from sklearn.model_selection import train_test_split"
   ]
  },
  {
   "cell_type": "code",
   "execution_count": 2,
   "id": "35f5fd6c",
   "metadata": {},
   "outputs": [],
   "source": [
    "def get_connection(db, user=user, host=host, password=password):\n",
    "    '''\n",
    "    This function uses my info from my env file to\n",
    "    create a connection url to access the Codeup db.\n",
    "    '''\n",
    "    return f'mysql+pymysql://{user}:{password}@{host}/{db}' "
   ]
  },
  {
   "cell_type": "code",
   "execution_count": 3,
   "id": "20c678b6",
   "metadata": {},
   "outputs": [],
   "source": [
    "def new_zillow_data():\n",
    "    '''\n",
    "    This function reads in the Zillow data from the Codeup db\n",
    "    and returns a pandas DataFrame with selected columns.\n",
    "    '''\n",
    "    sql_query = '''\n",
    "                select \n",
    "                bedroomcnt, bathroomcnt, calculatedfinishedsquarefeet, taxvaluedollarcnt, yearbuilt, taxamount, fips\n",
    "                from properties_2017\n",
    "                join propertylandusetype using (propertylandusetypeid)\n",
    "                where propertylandusedesc = \"Single Family Residential\"\n",
    "                '''\n",
    "    \n",
    "    return pd.read_sql(sql_query, get_connection('zillow'))"
   ]
  },
  {
   "cell_type": "code",
   "execution_count": 4,
   "id": "6caf063a",
   "metadata": {},
   "outputs": [],
   "source": [
    "df = new_zillow_data()"
   ]
  },
  {
   "cell_type": "code",
   "execution_count": 5,
   "id": "7be7aca5",
   "metadata": {},
   "outputs": [
    {
     "data": {
      "text/html": [
       "<div>\n",
       "<style scoped>\n",
       "    .dataframe tbody tr th:only-of-type {\n",
       "        vertical-align: middle;\n",
       "    }\n",
       "\n",
       "    .dataframe tbody tr th {\n",
       "        vertical-align: top;\n",
       "    }\n",
       "\n",
       "    .dataframe thead th {\n",
       "        text-align: right;\n",
       "    }\n",
       "</style>\n",
       "<table border=\"1\" class=\"dataframe\">\n",
       "  <thead>\n",
       "    <tr style=\"text-align: right;\">\n",
       "      <th></th>\n",
       "      <th>0</th>\n",
       "      <th>1</th>\n",
       "      <th>2</th>\n",
       "      <th>3</th>\n",
       "      <th>4</th>\n",
       "    </tr>\n",
       "  </thead>\n",
       "  <tbody>\n",
       "    <tr>\n",
       "      <th>bedroomcnt</th>\n",
       "      <td>0.0</td>\n",
       "      <td>0.0</td>\n",
       "      <td>0.0</td>\n",
       "      <td>0.00</td>\n",
       "      <td>4.00</td>\n",
       "    </tr>\n",
       "    <tr>\n",
       "      <th>bathroomcnt</th>\n",
       "      <td>0.0</td>\n",
       "      <td>0.0</td>\n",
       "      <td>0.0</td>\n",
       "      <td>0.00</td>\n",
       "      <td>2.00</td>\n",
       "    </tr>\n",
       "    <tr>\n",
       "      <th>calculatedfinishedsquarefeet</th>\n",
       "      <td>NaN</td>\n",
       "      <td>NaN</td>\n",
       "      <td>NaN</td>\n",
       "      <td>NaN</td>\n",
       "      <td>3633.00</td>\n",
       "    </tr>\n",
       "    <tr>\n",
       "      <th>taxvaluedollarcnt</th>\n",
       "      <td>27516.0</td>\n",
       "      <td>10.0</td>\n",
       "      <td>10.0</td>\n",
       "      <td>2108.00</td>\n",
       "      <td>296425.00</td>\n",
       "    </tr>\n",
       "    <tr>\n",
       "      <th>yearbuilt</th>\n",
       "      <td>NaN</td>\n",
       "      <td>NaN</td>\n",
       "      <td>NaN</td>\n",
       "      <td>NaN</td>\n",
       "      <td>2005.00</td>\n",
       "    </tr>\n",
       "    <tr>\n",
       "      <th>taxamount</th>\n",
       "      <td>NaN</td>\n",
       "      <td>NaN</td>\n",
       "      <td>NaN</td>\n",
       "      <td>174.21</td>\n",
       "      <td>6941.39</td>\n",
       "    </tr>\n",
       "    <tr>\n",
       "      <th>fips</th>\n",
       "      <td>6037.0</td>\n",
       "      <td>6037.0</td>\n",
       "      <td>6037.0</td>\n",
       "      <td>6037.00</td>\n",
       "      <td>6037.00</td>\n",
       "    </tr>\n",
       "  </tbody>\n",
       "</table>\n",
       "</div>"
      ],
      "text/plain": [
       "                                    0       1       2        3          4\n",
       "bedroomcnt                        0.0     0.0     0.0     0.00       4.00\n",
       "bathroomcnt                       0.0     0.0     0.0     0.00       2.00\n",
       "calculatedfinishedsquarefeet      NaN     NaN     NaN      NaN    3633.00\n",
       "taxvaluedollarcnt             27516.0    10.0    10.0  2108.00  296425.00\n",
       "yearbuilt                         NaN     NaN     NaN      NaN    2005.00\n",
       "taxamount                         NaN     NaN     NaN   174.21    6941.39\n",
       "fips                           6037.0  6037.0  6037.0  6037.00    6037.00"
      ]
     },
     "execution_count": 5,
     "metadata": {},
     "output_type": "execute_result"
    }
   ],
   "source": [
    "df.head().T"
   ]
  },
  {
   "cell_type": "code",
   "execution_count": 6,
   "id": "263a003b",
   "metadata": {},
   "outputs": [
    {
     "data": {
      "text/plain": [
       "(2152863, 7)"
      ]
     },
     "execution_count": 6,
     "metadata": {},
     "output_type": "execute_result"
    }
   ],
   "source": [
    "df.shape"
   ]
  },
  {
   "cell_type": "code",
   "execution_count": 10,
   "id": "e984823d",
   "metadata": {},
   "outputs": [
    {
     "name": "stdout",
     "output_type": "stream",
     "text": [
      "<class 'pandas.core.frame.DataFrame'>\n",
      "RangeIndex: 2152863 entries, 0 to 2152862\n",
      "Data columns (total 7 columns):\n",
      " #   Column                        Dtype  \n",
      "---  ------                        -----  \n",
      " 0   bedroomcnt                    float64\n",
      " 1   bathroomcnt                   float64\n",
      " 2   calculatedfinishedsquarefeet  float64\n",
      " 3   taxvaluedollarcnt             float64\n",
      " 4   yearbuilt                     float64\n",
      " 5   taxamount                     float64\n",
      " 6   fips                          float64\n",
      "dtypes: float64(7)\n",
      "memory usage: 115.0 MB\n"
     ]
    }
   ],
   "source": [
    "df.info()"
   ]
  },
  {
   "cell_type": "code",
   "execution_count": 12,
   "id": "676a1d78",
   "metadata": {},
   "outputs": [
    {
     "data": {
      "text/plain": [
       "bedroomcnt                        11\n",
       "bathroomcnt                       11\n",
       "calculatedfinishedsquarefeet    8484\n",
       "taxvaluedollarcnt                493\n",
       "yearbuilt                       9337\n",
       "taxamount                       4442\n",
       "fips                               0\n",
       "dtype: int64"
      ]
     },
     "execution_count": 12,
     "metadata": {},
     "output_type": "execute_result"
    }
   ],
   "source": [
    "df.isnull().sum()"
   ]
  },
  {
   "cell_type": "code",
   "execution_count": 13,
   "id": "dbc92502",
   "metadata": {},
   "outputs": [
    {
     "data": {
      "text/plain": [
       "bedroomcnt                       True\n",
       "bathroomcnt                      True\n",
       "calculatedfinishedsquarefeet     True\n",
       "taxvaluedollarcnt                True\n",
       "yearbuilt                        True\n",
       "taxamount                        True\n",
       "fips                            False\n",
       "dtype: bool"
      ]
     },
     "execution_count": 13,
     "metadata": {},
     "output_type": "execute_result"
    }
   ],
   "source": [
    "df.isnull().any()"
   ]
  },
  {
   "cell_type": "code",
   "execution_count": 15,
   "id": "f3d6e347",
   "metadata": {},
   "outputs": [
    {
     "data": {
      "text/html": [
       "<div>\n",
       "<style scoped>\n",
       "    .dataframe tbody tr th:only-of-type {\n",
       "        vertical-align: middle;\n",
       "    }\n",
       "\n",
       "    .dataframe tbody tr th {\n",
       "        vertical-align: top;\n",
       "    }\n",
       "\n",
       "    .dataframe thead th {\n",
       "        text-align: right;\n",
       "    }\n",
       "</style>\n",
       "<table border=\"1\" class=\"dataframe\">\n",
       "  <thead>\n",
       "    <tr style=\"text-align: right;\">\n",
       "      <th></th>\n",
       "      <th>bedroomcnt</th>\n",
       "      <th>bathroomcnt</th>\n",
       "      <th>calculatedfinishedsquarefeet</th>\n",
       "      <th>taxvaluedollarcnt</th>\n",
       "      <th>yearbuilt</th>\n",
       "      <th>taxamount</th>\n",
       "      <th>fips</th>\n",
       "    </tr>\n",
       "  </thead>\n",
       "  <tbody>\n",
       "    <tr>\n",
       "      <th>count</th>\n",
       "      <td>2.152852e+06</td>\n",
       "      <td>2.152852e+06</td>\n",
       "      <td>2.144379e+06</td>\n",
       "      <td>2.152370e+06</td>\n",
       "      <td>2.143526e+06</td>\n",
       "      <td>2.148421e+06</td>\n",
       "      <td>2.152863e+06</td>\n",
       "    </tr>\n",
       "    <tr>\n",
       "      <th>mean</th>\n",
       "      <td>3.287196e+00</td>\n",
       "      <td>2.230688e+00</td>\n",
       "      <td>1.862855e+03</td>\n",
       "      <td>4.618962e+05</td>\n",
       "      <td>1.960950e+03</td>\n",
       "      <td>5.634866e+03</td>\n",
       "      <td>6.048377e+03</td>\n",
       "    </tr>\n",
       "    <tr>\n",
       "      <th>std</th>\n",
       "      <td>9.547544e-01</td>\n",
       "      <td>9.992796e-01</td>\n",
       "      <td>1.222125e+03</td>\n",
       "      <td>6.996760e+05</td>\n",
       "      <td>2.216220e+01</td>\n",
       "      <td>8.178910e+03</td>\n",
       "      <td>2.043329e+01</td>\n",
       "    </tr>\n",
       "    <tr>\n",
       "      <th>min</th>\n",
       "      <td>0.000000e+00</td>\n",
       "      <td>0.000000e+00</td>\n",
       "      <td>1.000000e+00</td>\n",
       "      <td>1.000000e+00</td>\n",
       "      <td>1.801000e+03</td>\n",
       "      <td>1.850000e+00</td>\n",
       "      <td>6.037000e+03</td>\n",
       "    </tr>\n",
       "    <tr>\n",
       "      <th>25%</th>\n",
       "      <td>3.000000e+00</td>\n",
       "      <td>2.000000e+00</td>\n",
       "      <td>1.257000e+03</td>\n",
       "      <td>1.881702e+05</td>\n",
       "      <td>1.949000e+03</td>\n",
       "      <td>2.534980e+03</td>\n",
       "      <td>6.037000e+03</td>\n",
       "    </tr>\n",
       "    <tr>\n",
       "      <th>50%</th>\n",
       "      <td>3.000000e+00</td>\n",
       "      <td>2.000000e+00</td>\n",
       "      <td>1.623000e+03</td>\n",
       "      <td>3.276710e+05</td>\n",
       "      <td>1.958000e+03</td>\n",
       "      <td>4.108950e+03</td>\n",
       "      <td>6.037000e+03</td>\n",
       "    </tr>\n",
       "    <tr>\n",
       "      <th>75%</th>\n",
       "      <td>4.000000e+00</td>\n",
       "      <td>3.000000e+00</td>\n",
       "      <td>2.208000e+03</td>\n",
       "      <td>5.345270e+05</td>\n",
       "      <td>1.976000e+03</td>\n",
       "      <td>6.414320e+03</td>\n",
       "      <td>6.059000e+03</td>\n",
       "    </tr>\n",
       "    <tr>\n",
       "      <th>max</th>\n",
       "      <td>2.500000e+01</td>\n",
       "      <td>3.200000e+01</td>\n",
       "      <td>9.525760e+05</td>\n",
       "      <td>9.842891e+07</td>\n",
       "      <td>2.016000e+03</td>\n",
       "      <td>1.337756e+06</td>\n",
       "      <td>6.111000e+03</td>\n",
       "    </tr>\n",
       "  </tbody>\n",
       "</table>\n",
       "</div>"
      ],
      "text/plain": [
       "         bedroomcnt   bathroomcnt  calculatedfinishedsquarefeet  \\\n",
       "count  2.152852e+06  2.152852e+06                  2.144379e+06   \n",
       "mean   3.287196e+00  2.230688e+00                  1.862855e+03   \n",
       "std    9.547544e-01  9.992796e-01                  1.222125e+03   \n",
       "min    0.000000e+00  0.000000e+00                  1.000000e+00   \n",
       "25%    3.000000e+00  2.000000e+00                  1.257000e+03   \n",
       "50%    3.000000e+00  2.000000e+00                  1.623000e+03   \n",
       "75%    4.000000e+00  3.000000e+00                  2.208000e+03   \n",
       "max    2.500000e+01  3.200000e+01                  9.525760e+05   \n",
       "\n",
       "       taxvaluedollarcnt     yearbuilt     taxamount          fips  \n",
       "count       2.152370e+06  2.143526e+06  2.148421e+06  2.152863e+06  \n",
       "mean        4.618962e+05  1.960950e+03  5.634866e+03  6.048377e+03  \n",
       "std         6.996760e+05  2.216220e+01  8.178910e+03  2.043329e+01  \n",
       "min         1.000000e+00  1.801000e+03  1.850000e+00  6.037000e+03  \n",
       "25%         1.881702e+05  1.949000e+03  2.534980e+03  6.037000e+03  \n",
       "50%         3.276710e+05  1.958000e+03  4.108950e+03  6.037000e+03  \n",
       "75%         5.345270e+05  1.976000e+03  6.414320e+03  6.059000e+03  \n",
       "max         9.842891e+07  2.016000e+03  1.337756e+06  6.111000e+03  "
      ]
     },
     "execution_count": 15,
     "metadata": {},
     "output_type": "execute_result"
    }
   ],
   "source": [
    "df.describe()"
   ]
  },
  {
   "cell_type": "code",
   "execution_count": 17,
   "id": "52ba8b7b",
   "metadata": {},
   "outputs": [
    {
     "data": {
      "text/plain": [
       "25.0         1\n",
       "16.0         2\n",
       "18.0         3\n",
       "15.0         6\n",
       "14.0         7\n",
       "NaN         11\n",
       "12.0        12\n",
       "13.0        16\n",
       "11.0        34\n",
       "10.0       121\n",
       "9.0        291\n",
       "8.0       1107\n",
       "7.0       4807\n",
       "0.0      13187\n",
       "1.0      23166\n",
       "6.0      25166\n",
       "5.0     150866\n",
       "2.0     335473\n",
       "4.0     634289\n",
       "3.0     964298\n",
       "Name: bedroomcnt, dtype: int64"
      ]
     },
     "execution_count": 17,
     "metadata": {},
     "output_type": "execute_result"
    }
   ],
   "source": [
    "# Check out the values and their frequencies from in each column.\n",
    "\n",
    "df.bedroomcnt.value_counts(dropna=False, ascending=True)\n"
   ]
  },
  {
   "cell_type": "code",
   "execution_count": 19,
   "id": "bce469ef",
   "metadata": {},
   "outputs": [
    {
     "data": {
      "text/plain": [
       "19.00         1\n",
       "32.00         1\n",
       "19.50         1\n",
       "14.50         1\n",
       "12.50         3\n",
       "11.50         3\n",
       "1.75          3\n",
       "17.00         4\n",
       "20.00         6\n",
       "18.00         8\n",
       "NaN          11\n",
       "16.00        12\n",
       "10.50        14\n",
       "0.50         16\n",
       "15.00        17\n",
       "14.00        25\n",
       "13.00        39\n",
       "9.50         50\n",
       "12.00        73\n",
       "8.50        110\n",
       "11.00       146\n",
       "10.00       325\n",
       "7.50        384\n",
       "9.00        713\n",
       "6.50       1333\n",
       "8.00       1692\n",
       "7.00       4394\n",
       "5.50       6217\n",
       "6.00      10747\n",
       "0.00      13027\n",
       "4.50      19506\n",
       "5.00      28362\n",
       "3.50      28518\n",
       "1.50      31211\n",
       "4.00      82155\n",
       "2.50     142981\n",
       "1.00     414324\n",
       "3.00     422841\n",
       "2.00     943589\n",
       "Name: bathroomcnt, dtype: int64"
      ]
     },
     "execution_count": 19,
     "metadata": {},
     "output_type": "execute_result"
    }
   ],
   "source": [
    "df.bathroomcnt.value_counts(dropna=False, ascending=True)\n"
   ]
  },
  {
   "cell_type": "code",
   "execution_count": 20,
   "id": "831a51d5",
   "metadata": {},
   "outputs": [
    {
     "data": {
      "text/plain": [
       "24920.0       1\n",
       "10127.0       1\n",
       "35046.0       1\n",
       "8803.0        1\n",
       "16134.0       1\n",
       "           ... \n",
       "1400.0     3833\n",
       "1120.0     4362\n",
       "1080.0     4389\n",
       "1200.0     5195\n",
       "NaN        8484\n",
       "Name: calculatedfinishedsquarefeet, Length: 10581, dtype: int64"
      ]
     },
     "execution_count": 20,
     "metadata": {},
     "output_type": "execute_result"
    }
   ],
   "source": [
    "df.calculatedfinishedsquarefeet.value_counts(dropna=False, ascending=True)"
   ]
  },
  {
   "cell_type": "code",
   "execution_count": 21,
   "id": "7b0d7018",
   "metadata": {},
   "outputs": [
    {
     "data": {
      "text/plain": [
       "27516.0        1\n",
       "167020.0       1\n",
       "145983.0       1\n",
       "81898.0        1\n",
       "1503486.0      1\n",
       "            ... \n",
       "440000.0     685\n",
       "430000.0     690\n",
       "400000.0     729\n",
       "500000.0     779\n",
       "450000.0     821\n",
       "Name: taxvaluedollarcnt, Length: 592270, dtype: int64"
      ]
     },
     "execution_count": 21,
     "metadata": {},
     "output_type": "execute_result"
    }
   ],
   "source": [
    "df.taxvaluedollarcnt.value_counts(dropna=False, ascending=True)"
   ]
  },
  {
   "cell_type": "code",
   "execution_count": 23,
   "id": "8d2e69d3",
   "metadata": {},
   "outputs": [
    {
     "data": {
      "text/plain": [
       "1874.0        1\n",
       "1877.0        1\n",
       "1862.0        1\n",
       "1840.0        1\n",
       "1807.0        1\n",
       "          ...  \n",
       "1956.0    61942\n",
       "1953.0    62342\n",
       "1954.0    69163\n",
       "1950.0    71693\n",
       "1955.0    84405\n",
       "Name: yearbuilt, Length: 154, dtype: int64"
      ]
     },
     "execution_count": 23,
     "metadata": {},
     "output_type": "execute_result"
    }
   ],
   "source": [
    "df.yearbuilt.value_counts(dropna=False, ascending=True)"
   ]
  },
  {
   "cell_type": "code",
   "execution_count": 24,
   "id": "b21e3e7d",
   "metadata": {},
   "outputs": [
    {
     "data": {
      "text/plain": [
       "3425.69       1\n",
       "5555.02       1\n",
       "4921.21       1\n",
       "871.75        1\n",
       "3475.45       1\n",
       "           ... \n",
       "285.30       67\n",
       "343.52       75\n",
       "344.18       77\n",
       "345.72      172\n",
       "NaN        4442\n",
       "Name: taxamount, Length: 918839, dtype: int64"
      ]
     },
     "execution_count": 24,
     "metadata": {},
     "output_type": "execute_result"
    }
   ],
   "source": [
    "df.taxamount.value_counts(dropna=False, ascending=True)"
   ]
  },
  {
   "cell_type": "code",
   "execution_count": 26,
   "id": "294b186a",
   "metadata": {},
   "outputs": [],
   "source": [
    "df = df.dropna()"
   ]
  },
  {
   "cell_type": "code",
   "execution_count": 27,
   "id": "90e5976f",
   "metadata": {},
   "outputs": [
    {
     "name": "stdout",
     "output_type": "stream",
     "text": [
      "<class 'pandas.core.frame.DataFrame'>\n",
      "Int64Index: 2140235 entries, 4 to 2152862\n",
      "Data columns (total 7 columns):\n",
      " #   Column                        Dtype  \n",
      "---  ------                        -----  \n",
      " 0   bedroomcnt                    float64\n",
      " 1   bathroomcnt                   float64\n",
      " 2   calculatedfinishedsquarefeet  float64\n",
      " 3   taxvaluedollarcnt             float64\n",
      " 4   yearbuilt                     float64\n",
      " 5   taxamount                     float64\n",
      " 6   fips                          float64\n",
      "dtypes: float64(7)\n",
      "memory usage: 130.6 MB\n"
     ]
    }
   ],
   "source": [
    "df.info()"
   ]
  },
  {
   "cell_type": "code",
   "execution_count": 28,
   "id": "be952283",
   "metadata": {},
   "outputs": [
    {
     "data": {
      "text/plain": [
       "bedroomcnt                      0\n",
       "bathroomcnt                     0\n",
       "calculatedfinishedsquarefeet    0\n",
       "taxvaluedollarcnt               0\n",
       "yearbuilt                       0\n",
       "taxamount                       0\n",
       "fips                            0\n",
       "dtype: int64"
      ]
     },
     "execution_count": 28,
     "metadata": {},
     "output_type": "execute_result"
    }
   ],
   "source": [
    "df.isnull().sum()"
   ]
  },
  {
   "cell_type": "code",
   "execution_count": 43,
   "id": "2f2bee0c",
   "metadata": {},
   "outputs": [],
   "source": [
    "# change names of columns to something that makes sense\n",
    "df = df.rename(columns = {'bedroomcnt':'bedrooms', \n",
    "                          'bathroomcnt':'bathrooms', \n",
    "                          'calculatedfinishedsquarefeet':'area',\n",
    "                          'taxvaluedollarcnt':'tax_value', \n",
    "                          'yearbuilt':'year_built',\n",
    "                          'taxamount':'tax_amount'})"
   ]
  },
  {
   "cell_type": "code",
   "execution_count": 44,
   "id": "48ead28c",
   "metadata": {},
   "outputs": [
    {
     "data": {
      "text/html": [
       "<div>\n",
       "<style scoped>\n",
       "    .dataframe tbody tr th:only-of-type {\n",
       "        vertical-align: middle;\n",
       "    }\n",
       "\n",
       "    .dataframe tbody tr th {\n",
       "        vertical-align: top;\n",
       "    }\n",
       "\n",
       "    .dataframe thead th {\n",
       "        text-align: right;\n",
       "    }\n",
       "</style>\n",
       "<table border=\"1\" class=\"dataframe\">\n",
       "  <thead>\n",
       "    <tr style=\"text-align: right;\">\n",
       "      <th></th>\n",
       "      <th>bedrooms</th>\n",
       "      <th>bathrooms</th>\n",
       "      <th>area</th>\n",
       "      <th>tax_value</th>\n",
       "      <th>year_built</th>\n",
       "      <th>tax_amount</th>\n",
       "      <th>fips</th>\n",
       "    </tr>\n",
       "  </thead>\n",
       "  <tbody>\n",
       "    <tr>\n",
       "      <th>4</th>\n",
       "      <td>4.0</td>\n",
       "      <td>2.0</td>\n",
       "      <td>3633.0</td>\n",
       "      <td>296425.0</td>\n",
       "      <td>2005.0</td>\n",
       "      <td>6941.39</td>\n",
       "      <td>6037.0</td>\n",
       "    </tr>\n",
       "    <tr>\n",
       "      <th>6</th>\n",
       "      <td>3.0</td>\n",
       "      <td>4.0</td>\n",
       "      <td>1620.0</td>\n",
       "      <td>847770.0</td>\n",
       "      <td>2011.0</td>\n",
       "      <td>10244.94</td>\n",
       "      <td>6037.0</td>\n",
       "    </tr>\n",
       "    <tr>\n",
       "      <th>7</th>\n",
       "      <td>3.0</td>\n",
       "      <td>2.0</td>\n",
       "      <td>2077.0</td>\n",
       "      <td>646760.0</td>\n",
       "      <td>1926.0</td>\n",
       "      <td>7924.68</td>\n",
       "      <td>6037.0</td>\n",
       "    </tr>\n",
       "    <tr>\n",
       "      <th>11</th>\n",
       "      <td>0.0</td>\n",
       "      <td>0.0</td>\n",
       "      <td>1200.0</td>\n",
       "      <td>5328.0</td>\n",
       "      <td>1972.0</td>\n",
       "      <td>91.60</td>\n",
       "      <td>6037.0</td>\n",
       "    </tr>\n",
       "    <tr>\n",
       "      <th>14</th>\n",
       "      <td>0.0</td>\n",
       "      <td>0.0</td>\n",
       "      <td>171.0</td>\n",
       "      <td>6920.0</td>\n",
       "      <td>1973.0</td>\n",
       "      <td>255.17</td>\n",
       "      <td>6037.0</td>\n",
       "    </tr>\n",
       "  </tbody>\n",
       "</table>\n",
       "</div>"
      ],
      "text/plain": [
       "    bedrooms  bathrooms    area  tax_value  year_built  tax_amount    fips\n",
       "4        4.0        2.0  3633.0   296425.0      2005.0     6941.39  6037.0\n",
       "6        3.0        4.0  1620.0   847770.0      2011.0    10244.94  6037.0\n",
       "7        3.0        2.0  2077.0   646760.0      1926.0     7924.68  6037.0\n",
       "11       0.0        0.0  1200.0     5328.0      1972.0       91.60  6037.0\n",
       "14       0.0        0.0   171.0     6920.0      1973.0      255.17  6037.0"
      ]
     },
     "execution_count": 44,
     "metadata": {},
     "output_type": "execute_result"
    }
   ],
   "source": [
    "df.head()"
   ]
  },
  {
   "cell_type": "code",
   "execution_count": 45,
   "id": "171a6e19",
   "metadata": {},
   "outputs": [
    {
     "name": "stdout",
     "output_type": "stream",
     "text": [
      "<class 'pandas.core.frame.DataFrame'>\n",
      "Int64Index: 2140235 entries, 4 to 2152862\n",
      "Data columns (total 7 columns):\n",
      " #   Column      Dtype  \n",
      "---  ------      -----  \n",
      " 0   bedrooms    float64\n",
      " 1   bathrooms   float64\n",
      " 2   area        float64\n",
      " 3   tax_value   float64\n",
      " 4   year_built  float64\n",
      " 5   tax_amount  float64\n",
      " 6   fips        float64\n",
      "dtypes: float64(7)\n",
      "memory usage: 130.6 MB\n"
     ]
    }
   ],
   "source": [
    "df.info()"
   ]
  },
  {
   "cell_type": "code",
   "execution_count": 46,
   "id": "7fadbe10",
   "metadata": {},
   "outputs": [
    {
     "data": {
      "text/plain": [
       "bedrooms      0\n",
       "bathrooms     0\n",
       "area          0\n",
       "tax_value     0\n",
       "year_built    0\n",
       "tax_amount    0\n",
       "fips          0\n",
       "dtype: int64"
      ]
     },
     "execution_count": 46,
     "metadata": {},
     "output_type": "execute_result"
    }
   ],
   "source": [
    "df.isnull().sum()"
   ]
  },
  {
   "cell_type": "code",
   "execution_count": 47,
   "id": "e1dc4d87",
   "metadata": {},
   "outputs": [
    {
     "data": {
      "text/plain": [
       "bedrooms  bathrooms  area     tax_value  year_built  tax_amount  fips  \n",
       "3.0       1.0        1002.0   39230.0    1962.0      419.14      6111.0    21\n",
       "2.0       2.5        1008.0   101575.0   1988.0      1450.58     6059.0    16\n",
       "4.0       3.0        2539.0   678000.0   2005.0      9094.20     6059.0    14\n",
       "3.0       2.5        1358.0   194027.0   2000.0      2317.92     6111.0    14\n",
       "                     2060.0   455635.0   2007.0      5271.34     6059.0    13\n",
       "                                                                           ..\n",
       "          2.0        1312.0   55069.0    1954.0      874.62      6059.0     1\n",
       "                              54603.0    1963.0      857.48      6059.0     1\n",
       "                              54300.0    1955.0      954.44      6037.0     1\n",
       "                              54293.0    1956.0      947.47      6037.0     1\n",
       "25.0      20.0       11700.0  1608491.0  2010.0      19238.87    6037.0     1\n",
       "Length: 2130214, dtype: int64"
      ]
     },
     "execution_count": 47,
     "metadata": {},
     "output_type": "execute_result"
    }
   ],
   "source": [
    "df.value_counts()"
   ]
  },
  {
   "cell_type": "code",
   "execution_count": 48,
   "id": "795ecdaf",
   "metadata": {},
   "outputs": [
    {
     "name": "stdout",
     "output_type": "stream",
     "text": [
      "(1198531, 7) (513657, 7) (428047, 7)\n"
     ]
    }
   ],
   "source": [
    "train_validate, test = train_test_split(df, test_size=.2, random_state=123)\n",
    "train, validate = train_test_split(train_validate, test_size=.3, random_state=123)\n",
    "print(train.shape, validate.shape, test.shape)"
   ]
  },
  {
   "cell_type": "code",
   "execution_count": 49,
   "id": "2002477a",
   "metadata": {},
   "outputs": [
    {
     "data": {
      "text/plain": [
       "Index(['bedrooms', 'bathrooms', 'area', 'tax_value', 'year_built',\n",
       "       'tax_amount', 'fips'],\n",
       "      dtype='object')"
      ]
     },
     "execution_count": 49,
     "metadata": {},
     "output_type": "execute_result"
    }
   ],
   "source": [
    "train.columns"
   ]
  },
  {
   "cell_type": "code",
   "execution_count": 50,
   "id": "c8a139a3",
   "metadata": {},
   "outputs": [
    {
     "name": "stdout",
     "output_type": "stream",
     "text": [
      "<class 'pandas.core.frame.DataFrame'>\n",
      "Int64Index: 1198531 entries, 1567873 to 372341\n",
      "Data columns (total 7 columns):\n",
      " #   Column      Non-Null Count    Dtype  \n",
      "---  ------      --------------    -----  \n",
      " 0   bedrooms    1198531 non-null  float64\n",
      " 1   bathrooms   1198531 non-null  float64\n",
      " 2   area        1198531 non-null  float64\n",
      " 3   tax_value   1198531 non-null  float64\n",
      " 4   year_built  1198531 non-null  float64\n",
      " 5   tax_amount  1198531 non-null  float64\n",
      " 6   fips        1198531 non-null  float64\n",
      "dtypes: float64(7)\n",
      "memory usage: 73.2 MB\n"
     ]
    }
   ],
   "source": [
    "train.info()"
   ]
  },
  {
   "cell_type": "code",
   "execution_count": null,
   "id": "4778a13e",
   "metadata": {},
   "outputs": [],
   "source": []
  },
  {
   "cell_type": "code",
   "execution_count": null,
   "id": "b5c150ce",
   "metadata": {},
   "outputs": [],
   "source": [
    "# Apply the scalers we talked about in this lesson to your data \n",
    "# and visualize the results for the unscaled and scaled distribution ."
   ]
  },
  {
   "cell_type": "code",
   "execution_count": 54,
   "id": "d247e758",
   "metadata": {},
   "outputs": [],
   "source": [
    "cols_to_scale = ['bedrooms', 'bathrooms','area', 'tax_value']"
   ]
  },
  {
   "cell_type": "code",
   "execution_count": 55,
   "id": "4e45a7f5",
   "metadata": {},
   "outputs": [],
   "source": [
    "train_scaled = train.copy()\n",
    "scaler = MinMaxScaler()\n",
    "train_scaled[cols_to_scale] = scaler.fit_transform(train[cols_to_scale])"
   ]
  },
  {
   "cell_type": "code",
   "execution_count": 57,
   "id": "fe720d27",
   "metadata": {},
   "outputs": [
    {
     "data": {
      "text/html": [
       "<div>\n",
       "<style scoped>\n",
       "    .dataframe tbody tr th:only-of-type {\n",
       "        vertical-align: middle;\n",
       "    }\n",
       "\n",
       "    .dataframe tbody tr th {\n",
       "        vertical-align: top;\n",
       "    }\n",
       "\n",
       "    .dataframe thead th {\n",
       "        text-align: right;\n",
       "    }\n",
       "</style>\n",
       "<table border=\"1\" class=\"dataframe\">\n",
       "  <thead>\n",
       "    <tr style=\"text-align: right;\">\n",
       "      <th></th>\n",
       "      <th>bedrooms</th>\n",
       "      <th>bathrooms</th>\n",
       "      <th>area</th>\n",
       "      <th>tax_value</th>\n",
       "      <th>year_built</th>\n",
       "      <th>tax_amount</th>\n",
       "      <th>fips</th>\n",
       "    </tr>\n",
       "  </thead>\n",
       "  <tbody>\n",
       "    <tr>\n",
       "      <th>1567873</th>\n",
       "      <td>0.200000</td>\n",
       "      <td>0.03125</td>\n",
       "      <td>0.001309</td>\n",
       "      <td>0.002124</td>\n",
       "      <td>1950.0</td>\n",
       "      <td>2712.21</td>\n",
       "      <td>6037.0</td>\n",
       "    </tr>\n",
       "    <tr>\n",
       "      <th>1218138</th>\n",
       "      <td>0.133333</td>\n",
       "      <td>0.06250</td>\n",
       "      <td>0.001391</td>\n",
       "      <td>0.014915</td>\n",
       "      <td>1950.0</td>\n",
       "      <td>16539.04</td>\n",
       "      <td>6037.0</td>\n",
       "    </tr>\n",
       "    <tr>\n",
       "      <th>339661</th>\n",
       "      <td>0.133333</td>\n",
       "      <td>0.03125</td>\n",
       "      <td>0.001104</td>\n",
       "      <td>0.003954</td>\n",
       "      <td>1953.0</td>\n",
       "      <td>4575.16</td>\n",
       "      <td>6037.0</td>\n",
       "    </tr>\n",
       "    <tr>\n",
       "      <th>1017133</th>\n",
       "      <td>0.200000</td>\n",
       "      <td>0.06250</td>\n",
       "      <td>0.001317</td>\n",
       "      <td>0.001941</td>\n",
       "      <td>1946.0</td>\n",
       "      <td>2635.51</td>\n",
       "      <td>6037.0</td>\n",
       "    </tr>\n",
       "    <tr>\n",
       "      <th>40250</th>\n",
       "      <td>0.200000</td>\n",
       "      <td>0.06250</td>\n",
       "      <td>0.001721</td>\n",
       "      <td>0.006020</td>\n",
       "      <td>1957.0</td>\n",
       "      <td>6344.96</td>\n",
       "      <td>6059.0</td>\n",
       "    </tr>\n",
       "    <tr>\n",
       "      <th>...</th>\n",
       "      <td>...</td>\n",
       "      <td>...</td>\n",
       "      <td>...</td>\n",
       "      <td>...</td>\n",
       "      <td>...</td>\n",
       "      <td>...</td>\n",
       "      <td>...</td>\n",
       "    </tr>\n",
       "    <tr>\n",
       "      <th>941799</th>\n",
       "      <td>0.133333</td>\n",
       "      <td>0.03125</td>\n",
       "      <td>0.000730</td>\n",
       "      <td>0.000307</td>\n",
       "      <td>1954.0</td>\n",
       "      <td>918.71</td>\n",
       "      <td>6037.0</td>\n",
       "    </tr>\n",
       "    <tr>\n",
       "      <th>631585</th>\n",
       "      <td>0.200000</td>\n",
       "      <td>0.09375</td>\n",
       "      <td>0.002184</td>\n",
       "      <td>0.006870</td>\n",
       "      <td>1987.0</td>\n",
       "      <td>7319.49</td>\n",
       "      <td>6037.0</td>\n",
       "    </tr>\n",
       "    <tr>\n",
       "      <th>883917</th>\n",
       "      <td>0.200000</td>\n",
       "      <td>0.06250</td>\n",
       "      <td>0.001828</td>\n",
       "      <td>0.002176</td>\n",
       "      <td>1957.0</td>\n",
       "      <td>2512.91</td>\n",
       "      <td>6037.0</td>\n",
       "    </tr>\n",
       "    <tr>\n",
       "      <th>1253096</th>\n",
       "      <td>0.266667</td>\n",
       "      <td>0.09375</td>\n",
       "      <td>0.002168</td>\n",
       "      <td>0.006845</td>\n",
       "      <td>1924.0</td>\n",
       "      <td>7650.55</td>\n",
       "      <td>6037.0</td>\n",
       "    </tr>\n",
       "    <tr>\n",
       "      <th>372341</th>\n",
       "      <td>0.200000</td>\n",
       "      <td>0.06250</td>\n",
       "      <td>0.001322</td>\n",
       "      <td>0.003900</td>\n",
       "      <td>1961.0</td>\n",
       "      <td>4093.40</td>\n",
       "      <td>6037.0</td>\n",
       "    </tr>\n",
       "  </tbody>\n",
       "</table>\n",
       "<p>1198531 rows × 7 columns</p>\n",
       "</div>"
      ],
      "text/plain": [
       "         bedrooms  bathrooms      area  tax_value  year_built  tax_amount  \\\n",
       "1567873  0.200000    0.03125  0.001309   0.002124      1950.0     2712.21   \n",
       "1218138  0.133333    0.06250  0.001391   0.014915      1950.0    16539.04   \n",
       "339661   0.133333    0.03125  0.001104   0.003954      1953.0     4575.16   \n",
       "1017133  0.200000    0.06250  0.001317   0.001941      1946.0     2635.51   \n",
       "40250    0.200000    0.06250  0.001721   0.006020      1957.0     6344.96   \n",
       "...           ...        ...       ...        ...         ...         ...   \n",
       "941799   0.133333    0.03125  0.000730   0.000307      1954.0      918.71   \n",
       "631585   0.200000    0.09375  0.002184   0.006870      1987.0     7319.49   \n",
       "883917   0.200000    0.06250  0.001828   0.002176      1957.0     2512.91   \n",
       "1253096  0.266667    0.09375  0.002168   0.006845      1924.0     7650.55   \n",
       "372341   0.200000    0.06250  0.001322   0.003900      1961.0     4093.40   \n",
       "\n",
       "           fips  \n",
       "1567873  6037.0  \n",
       "1218138  6037.0  \n",
       "339661   6037.0  \n",
       "1017133  6037.0  \n",
       "40250    6059.0  \n",
       "...         ...  \n",
       "941799   6037.0  \n",
       "631585   6037.0  \n",
       "883917   6037.0  \n",
       "1253096  6037.0  \n",
       "372341   6037.0  \n",
       "\n",
       "[1198531 rows x 7 columns]"
      ]
     },
     "execution_count": 57,
     "metadata": {},
     "output_type": "execute_result"
    }
   ],
   "source": [
    "train_scaled"
   ]
  },
  {
   "cell_type": "code",
   "execution_count": 58,
   "id": "5198e8b4",
   "metadata": {},
   "outputs": [
    {
     "data": {
      "image/png": "[encoded data removed]",
      "text/plain": [
       "<Figure size 432x288 with 1 Axes>"
      ]
     },
     "metadata": {
      "needs_background": "light"
     },
     "output_type": "display_data"
    }
   ],
   "source": [
    "# Distribution of bedrooms before MinMaxScaler applied\n",
    "plt.hist(train.bedrooms)\n",
    "plt.title('Distribution of Bedrooms Before MinMaxScaler')\n",
    "plt.xlabel('No Bedrooms')\n",
    "plt.ylabel('Count')\n",
    "plt.show()"
   ]
  },
  {
   "cell_type": "code",
   "execution_count": 63,
   "id": "548f7928",
   "metadata": {},
   "outputs": [
    {
     "data": {
      "text/plain": [
       "Text(0, 0.5, 'Count')"
      ]
     },
     "execution_count": 63,
     "metadata": {},
     "output_type": "execute_result"
    },
    {
     "data": {
      "image/png": "[encoded data removed]",
      "text/plain": [
       "<Figure size 432x288 with 1 Axes>"
      ]
     },
     "metadata": {
      "needs_background": "light"
     },
     "output_type": "display_data"
    }
   ],
   "source": [
    "# Distribution of bedrooms after MinMax Scaler applied\n",
    "plt.hist(train_scaled.bedrooms)\n",
    "plt.title('Distribution of Bedrooms After MinMaxScaler')\n",
    "plt.xlabel('No of Bedrooms')\n",
    "plt.ylabel('Count')"
   ]
  },
  {
   "cell_type": "code",
   "execution_count": 60,
   "id": "17fd3b01",
   "metadata": {},
   "outputs": [
    {
     "data": {
      "text/plain": [
       "Text(0, 0.5, 'Count')"
      ]
     },
     "execution_count": 60,
     "metadata": {},
     "output_type": "execute_result"
    },
    {
     "data": {
      "image/png": "[encoded data removed]",
      "text/plain": [
       "<Figure size 432x288 with 1 Axes>"
      ]
     },
     "metadata": {
      "needs_background": "light"
     },
     "output_type": "display_data"
    }
   ],
   "source": [
    "# Distribution of bathrooms before MinMaxScaler applied\n",
    "plt.hist(train.bathrooms)\n",
    "plt.title('Distribution of Bathrooms Before MinMaxScaler')\n",
    "plt.xlabel('Number of Bathrooms')\n",
    "plt.ylabel('Count')"
   ]
  },
  {
   "cell_type": "code",
   "execution_count": 62,
   "id": "3062d2d5",
   "metadata": {},
   "outputs": [
    {
     "data": {
      "text/plain": [
       "Text(0, 0.5, 'Count')"
      ]
     },
     "execution_count": 62,
     "metadata": {},
     "output_type": "execute_result"
    },
    {
     "data": {
      "image/png": "[encoded data removed]",
      "text/plain": [
       "<Figure size 432x288 with 1 Axes>"
      ]
     },
     "metadata": {
      "needs_background": "light"
     },
     "output_type": "display_data"
    }
   ],
   "source": [
    "# Distribution of bathrooms after MinMaxScaler applied\n",
    "plt.hist(train_scaled.bathrooms)\n",
    "plt.title('Distribution of Bathrooms After MinMaxScaler')\n",
    "plt.xlabel('Number of Bathrooms')\n",
    "plt.ylabel('Count')"
   ]
  },
  {
   "cell_type": "code",
   "execution_count": 64,
   "id": "b7ecc2de",
   "metadata": {},
   "outputs": [],
   "source": [
    "def visualize_scaler(scaler, df, columns_to_scale, bins=10):\n",
    "    fig, axs = plt.subplots(len(columns_to_scale), 2, figsize=(16,9))\n",
    "    df_scaled = df.copy()\n",
    "    df_scaled[columns_to_scale] = scaler.fit_transform(df[columns_to_scale])\n",
    "    for (ax1, ax2), col in zip(axs, columns_to_scale):\n",
    "        ax1.hist(df[col], bins=bins)\n",
    "        ax1.set(title=f'{col} Before scaling', xlabel=col, ylabel='Count')\n",
    "        ax2.hist(df_scaled[col], bins=bins)\n",
    "        ax2.set(title=f'{col} After scaling with {scaler.__class__.__name__}', xlabel=col, ylabel='Count')\n",
    "    plt.tight_layout()"
   ]
  },
  {
   "cell_type": "code",
   "execution_count": 65,
   "id": "08aca7bf",
   "metadata": {},
   "outputs": [
    {
     "data": {
      "image/png": "[encoded data removed]",
      "text/plain": [
       "<Figure size 1152x648 with 8 Axes>"
      ]
     },
     "metadata": {
      "needs_background": "light"
     },
     "output_type": "display_data"
    }
   ],
   "source": [
    "# MinMaxScaler applied on the visualize_scaler function\n",
    "\n",
    "visualize_scaler(scaler=MinMaxScaler(), df=train, columns_to_scale=cols_to_scale, bins=50)"
   ]
  },
  {
   "cell_type": "code",
   "execution_count": 66,
   "id": "9faedeef",
   "metadata": {},
   "outputs": [
    {
     "data": {
      "image/png": "[encoded data removed]",
      "text/plain": [
       "<Figure size 1152x648 with 8 Axes>"
      ]
     },
     "metadata": {
      "needs_background": "light"
     },
     "output_type": "display_data"
    }
   ],
   "source": [
    "# StandardScaler applied on the visualize_scaler function\n",
    "\n",
    "visualize_scaler(scaler=StandardScaler(), df=train, columns_to_scale=cols_to_scale, bins=50)"
   ]
  },
  {
   "cell_type": "code",
   "execution_count": 67,
   "id": "8238cb45",
   "metadata": {},
   "outputs": [
    {
     "data": {
      "image/png": "[encoded data removed]",
      "text/plain": [
       "<Figure size 1152x648 with 8 Axes>"
      ]
     },
     "metadata": {
      "needs_background": "light"
     },
     "output_type": "display_data"
    }
   ],
   "source": [
    "# RobustScaler applied on the visualize_scaler function\n",
    "\n",
    "visualize_scaler(scaler=RobustScaler(), df=train, columns_to_scale=cols_to_scale, bins=50)"
   ]
  },
  {
   "cell_type": "code",
   "execution_count": 68,
   "id": "9fc996a1",
   "metadata": {},
   "outputs": [
    {
     "data": {
      "image/png": "[encoded data removed]",
      "text/plain": [
       "<Figure size 1152x648 with 8 Axes>"
      ]
     },
     "metadata": {
      "needs_background": "light"
     },
     "output_type": "display_data"
    }
   ],
   "source": [
    "# Read the documentation for sklearn's QuantileTransformer. \n",
    "# Use normal for the output_distribution and apply this scaler to your data. \n",
    "# Visualize the result of your data scaling.\n",
    "\n",
    "\n",
    "# QuantileTransformer applied on the visualize_scaler function with normalized distribution output\n",
    "\n",
    "visualize_scaler(scaler=QuantileTransformer(output_distribution='normal'), df=train, columns_to_scale=cols_to_scale, bins=50)"
   ]
  },
  {
   "cell_type": "code",
   "execution_count": 70,
   "id": "672eb99c",
   "metadata": {},
   "outputs": [
    {
     "data": {
      "image/png": "[encoded data removed]",
      "text/plain": [
       "<Figure size 1152x648 with 8 Axes>"
      ]
     },
     "metadata": {
      "needs_background": "light"
     },
     "output_type": "display_data"
    }
   ],
   "source": [
    "# Use the QuantileTransformer, but omit the output_distribution argument. \n",
    "# Visualize your results. What do you notice?\n",
    "\n",
    "# QuantileTransformer applied on the visualize_scaler function without normalized distribution output\n",
    "\n",
    "visualize_scaler(scaler=QuantileTransformer(), df=train, columns_to_scale=cols_to_scale, bins=50)"
   ]
  },
  {
   "cell_type": "markdown",
   "id": "007e989b",
   "metadata": {},
   "source": [
    " ## Takeways\n",
    " #### area and tax value are not distributed normally anymore"
   ]
  },
  {
   "cell_type": "code",
   "execution_count": null,
   "id": "5d1a133c",
   "metadata": {},
   "outputs": [],
   "source": [
    "# Apply the .inverse_transform method to your scaled data. \n",
    "# Is the resulting dataset the exact same as the original data?"
   ]
  },
  {
   "cell_type": "code",
   "execution_count": 75,
   "id": "164d969c",
   "metadata": {},
   "outputs": [],
   "source": [
    "scaler = MinMaxScaler()\n",
    "original_data = train[['tax_value']]\n",
    "scaled_data = scaler.fit_transform(original_data)"
   ]
  },
  {
   "cell_type": "code",
   "execution_count": 76,
   "id": "d791f06d",
   "metadata": {},
   "outputs": [
    {
     "data": {
      "text/plain": [
       "array([[0.00212395],\n",
       "       [0.01491526],\n",
       "       [0.00395423],\n",
       "       [0.0019409 ],\n",
       "       [0.00602048]])"
      ]
     },
     "execution_count": 76,
     "metadata": {},
     "output_type": "execute_result"
    }
   ],
   "source": [
    "scaled_data[:5]"
   ]
  },
  {
   "cell_type": "code",
   "execution_count": 77,
   "id": "21dcc173",
   "metadata": {},
   "outputs": [
    {
     "data": {
      "text/html": [
       "<div>\n",
       "<style scoped>\n",
       "    .dataframe tbody tr th:only-of-type {\n",
       "        vertical-align: middle;\n",
       "    }\n",
       "\n",
       "    .dataframe tbody tr th {\n",
       "        vertical-align: top;\n",
       "    }\n",
       "\n",
       "    .dataframe thead th {\n",
       "        text-align: right;\n",
       "    }\n",
       "</style>\n",
       "<table border=\"1\" class=\"dataframe\">\n",
       "  <thead>\n",
       "    <tr style=\"text-align: right;\">\n",
       "      <th></th>\n",
       "      <th>tax_value</th>\n",
       "    </tr>\n",
       "  </thead>\n",
       "  <tbody>\n",
       "    <tr>\n",
       "      <th>1567873</th>\n",
       "      <td>191578.0</td>\n",
       "    </tr>\n",
       "    <tr>\n",
       "      <th>1218138</th>\n",
       "      <td>1345206.0</td>\n",
       "    </tr>\n",
       "    <tr>\n",
       "      <th>339661</th>\n",
       "      <td>356648.0</td>\n",
       "    </tr>\n",
       "    <tr>\n",
       "      <th>1017133</th>\n",
       "      <td>175069.0</td>\n",
       "    </tr>\n",
       "    <tr>\n",
       "      <th>40250</th>\n",
       "      <td>543000.0</td>\n",
       "    </tr>\n",
       "  </tbody>\n",
       "</table>\n",
       "</div>"
      ],
      "text/plain": [
       "         tax_value\n",
       "1567873   191578.0\n",
       "1218138  1345206.0\n",
       "339661    356648.0\n",
       "1017133   175069.0\n",
       "40250     543000.0"
      ]
     },
     "execution_count": 77,
     "metadata": {},
     "output_type": "execute_result"
    }
   ],
   "source": [
    "original_data[:5]"
   ]
  },
  {
   "cell_type": "code",
   "execution_count": 78,
   "id": "8476d4b9",
   "metadata": {},
   "outputs": [
    {
     "data": {
      "text/plain": [
       "array([[ 191578.],\n",
       "       [1345206.],\n",
       "       [ 356648.],\n",
       "       [ 175069.],\n",
       "       [ 543000.]])"
      ]
     },
     "execution_count": 78,
     "metadata": {},
     "output_type": "execute_result"
    }
   ],
   "source": [
    "scaler.inverse_transform(scaled_data)[:5]"
   ]
  },
  {
   "cell_type": "code",
   "execution_count": null,
   "id": "5bbd0523",
   "metadata": {},
   "outputs": [],
   "source": [
    "# Inverse transform gives back the unscaled dataset"
   ]
  },
  {
   "cell_type": "markdown",
   "id": "644fcf68",
   "metadata": {},
   "source": [
    "Based on the work you've done, choose a scaling method for your dataset. \n",
    "Write a function within your prepare.py that accepts as input the train, validate, and test data splits, \n",
    "and returns the scaled versions of each. \n",
    "Be sure to only learn the parameters for scaling from your training data!"
   ]
  },
  {
   "cell_type": "code",
   "execution_count": 85,
   "id": "a740e097",
   "metadata": {},
   "outputs": [],
   "source": [
    "def scaled_data(train, \n",
    "               validate, \n",
    "               test, \n",
    "               columns_to_scale=['bedrooms', 'bathrooms', 'tax_value', 'area'],\n",
    "               return_scaler=False):\n",
    "    '''\n",
    "    Takes in train, validate, and test data splits and returns their scaled counterparts.\n",
    "    If return_scalar is True, the scaler object will be returned as well\n",
    "    '''\n",
    "    train_scaled = train.copy()\n",
    "    validate_scaled = validate.copy()\n",
    "    test_scaled = test.copy()\n",
    "    \n",
    "    scaler = MinMaxScaler()\n",
    "    scaler.fit(train[columns_to_scale])\n",
    "    \n",
    "    train_scaled[columns_to_scale] = pd.DataFrame(scaler.transform(train[columns_to_scale]),\n",
    "                                                  columns=train[columns_to_scale].columns.values).set_index([train.index.values])\n",
    "                                                  \n",
    "    validate_scaled[columns_to_scale] = pd.DataFrame(scaler.transform(validate[columns_to_scale]),\n",
    "                                                  columns=validate[columns_to_scale].columns.values).set_index([validate.index.values])\n",
    "    \n",
    "    test_scaled[columns_to_scale] = pd.DataFrame(scaler.transform(test[columns_to_scale]),\n",
    "                                                 columns=test[columns_to_scale].columns.values).set_index([test.index.values])\n",
    "    \n",
    "    if return_scaler:\n",
    "        return scaler, train_scaled, validate_scaled, test_scaled\n",
    "    else:\n",
    "        return train_scaled, validate_scaled, test_scaled"
   ]
  },
  {
   "cell_type": "code",
   "execution_count": 86,
   "id": "62ee2fce",
   "metadata": {},
   "outputs": [
    {
     "data": {
      "text/html": [
       "<div>\n",
       "<style scoped>\n",
       "    .dataframe tbody tr th:only-of-type {\n",
       "        vertical-align: middle;\n",
       "    }\n",
       "\n",
       "    .dataframe tbody tr th {\n",
       "        vertical-align: top;\n",
       "    }\n",
       "\n",
       "    .dataframe thead th {\n",
       "        text-align: right;\n",
       "    }\n",
       "</style>\n",
       "<table border=\"1\" class=\"dataframe\">\n",
       "  <thead>\n",
       "    <tr style=\"text-align: right;\">\n",
       "      <th></th>\n",
       "      <th>bedrooms</th>\n",
       "      <th>bathrooms</th>\n",
       "      <th>area</th>\n",
       "      <th>tax_value</th>\n",
       "      <th>year_built</th>\n",
       "      <th>tax_amount</th>\n",
       "      <th>fips</th>\n",
       "    </tr>\n",
       "  </thead>\n",
       "  <tbody>\n",
       "    <tr>\n",
       "      <th>1567873</th>\n",
       "      <td>0.200000</td>\n",
       "      <td>0.03125</td>\n",
       "      <td>0.001309</td>\n",
       "      <td>0.002124</td>\n",
       "      <td>1950.0</td>\n",
       "      <td>2712.21</td>\n",
       "      <td>6037.0</td>\n",
       "    </tr>\n",
       "    <tr>\n",
       "      <th>1218138</th>\n",
       "      <td>0.133333</td>\n",
       "      <td>0.06250</td>\n",
       "      <td>0.001391</td>\n",
       "      <td>0.014915</td>\n",
       "      <td>1950.0</td>\n",
       "      <td>16539.04</td>\n",
       "      <td>6037.0</td>\n",
       "    </tr>\n",
       "    <tr>\n",
       "      <th>339661</th>\n",
       "      <td>0.133333</td>\n",
       "      <td>0.03125</td>\n",
       "      <td>0.001104</td>\n",
       "      <td>0.003954</td>\n",
       "      <td>1953.0</td>\n",
       "      <td>4575.16</td>\n",
       "      <td>6037.0</td>\n",
       "    </tr>\n",
       "    <tr>\n",
       "      <th>1017133</th>\n",
       "      <td>0.200000</td>\n",
       "      <td>0.06250</td>\n",
       "      <td>0.001317</td>\n",
       "      <td>0.001941</td>\n",
       "      <td>1946.0</td>\n",
       "      <td>2635.51</td>\n",
       "      <td>6037.0</td>\n",
       "    </tr>\n",
       "    <tr>\n",
       "      <th>40250</th>\n",
       "      <td>0.200000</td>\n",
       "      <td>0.06250</td>\n",
       "      <td>0.001721</td>\n",
       "      <td>0.006020</td>\n",
       "      <td>1957.0</td>\n",
       "      <td>6344.96</td>\n",
       "      <td>6059.0</td>\n",
       "    </tr>\n",
       "    <tr>\n",
       "      <th>...</th>\n",
       "      <td>...</td>\n",
       "      <td>...</td>\n",
       "      <td>...</td>\n",
       "      <td>...</td>\n",
       "      <td>...</td>\n",
       "      <td>...</td>\n",
       "      <td>...</td>\n",
       "    </tr>\n",
       "    <tr>\n",
       "      <th>941799</th>\n",
       "      <td>0.133333</td>\n",
       "      <td>0.03125</td>\n",
       "      <td>0.000730</td>\n",
       "      <td>0.000307</td>\n",
       "      <td>1954.0</td>\n",
       "      <td>918.71</td>\n",
       "      <td>6037.0</td>\n",
       "    </tr>\n",
       "    <tr>\n",
       "      <th>631585</th>\n",
       "      <td>0.200000</td>\n",
       "      <td>0.09375</td>\n",
       "      <td>0.002184</td>\n",
       "      <td>0.006870</td>\n",
       "      <td>1987.0</td>\n",
       "      <td>7319.49</td>\n",
       "      <td>6037.0</td>\n",
       "    </tr>\n",
       "    <tr>\n",
       "      <th>883917</th>\n",
       "      <td>0.200000</td>\n",
       "      <td>0.06250</td>\n",
       "      <td>0.001828</td>\n",
       "      <td>0.002176</td>\n",
       "      <td>1957.0</td>\n",
       "      <td>2512.91</td>\n",
       "      <td>6037.0</td>\n",
       "    </tr>\n",
       "    <tr>\n",
       "      <th>1253096</th>\n",
       "      <td>0.266667</td>\n",
       "      <td>0.09375</td>\n",
       "      <td>0.002168</td>\n",
       "      <td>0.006845</td>\n",
       "      <td>1924.0</td>\n",
       "      <td>7650.55</td>\n",
       "      <td>6037.0</td>\n",
       "    </tr>\n",
       "    <tr>\n",
       "      <th>372341</th>\n",
       "      <td>0.200000</td>\n",
       "      <td>0.06250</td>\n",
       "      <td>0.001322</td>\n",
       "      <td>0.003900</td>\n",
       "      <td>1961.0</td>\n",
       "      <td>4093.40</td>\n",
       "      <td>6037.0</td>\n",
       "    </tr>\n",
       "  </tbody>\n",
       "</table>\n",
       "<p>1198531 rows × 7 columns</p>\n",
       "</div>"
      ],
      "text/plain": [
       "         bedrooms  bathrooms      area  tax_value  year_built  tax_amount  \\\n",
       "1567873  0.200000    0.03125  0.001309   0.002124      1950.0     2712.21   \n",
       "1218138  0.133333    0.06250  0.001391   0.014915      1950.0    16539.04   \n",
       "339661   0.133333    0.03125  0.001104   0.003954      1953.0     4575.16   \n",
       "1017133  0.200000    0.06250  0.001317   0.001941      1946.0     2635.51   \n",
       "40250    0.200000    0.06250  0.001721   0.006020      1957.0     6344.96   \n",
       "...           ...        ...       ...        ...         ...         ...   \n",
       "941799   0.133333    0.03125  0.000730   0.000307      1954.0      918.71   \n",
       "631585   0.200000    0.09375  0.002184   0.006870      1987.0     7319.49   \n",
       "883917   0.200000    0.06250  0.001828   0.002176      1957.0     2512.91   \n",
       "1253096  0.266667    0.09375  0.002168   0.006845      1924.0     7650.55   \n",
       "372341   0.200000    0.06250  0.001322   0.003900      1961.0     4093.40   \n",
       "\n",
       "           fips  \n",
       "1567873  6037.0  \n",
       "1218138  6037.0  \n",
       "339661   6037.0  \n",
       "1017133  6037.0  \n",
       "40250    6059.0  \n",
       "...         ...  \n",
       "941799   6037.0  \n",
       "631585   6037.0  \n",
       "883917   6037.0  \n",
       "1253096  6037.0  \n",
       "372341   6037.0  \n",
       "\n",
       "[1198531 rows x 7 columns]"
      ]
     },
     "execution_count": 86,
     "metadata": {},
     "output_type": "execute_result"
    }
   ],
   "source": [
    "train_scaled"
   ]
  },
  {
   "cell_type": "code",
   "execution_count": 91,
   "id": "c785e26e",
   "metadata": {},
   "outputs": [
    {
     "ename": "NameError",
     "evalue": "name 'validate_scaled' is not defined",
     "output_type": "error",
     "traceback": [
      "\u001b[0;31m---------------------------------------------------------------------------\u001b[0m",
      "\u001b[0;31mNameError\u001b[0m                                 Traceback (most recent call last)",
      "Input \u001b[0;32mIn [91]\u001b[0m, in \u001b[0;36m<cell line: 1>\u001b[0;34m()\u001b[0m\n\u001b[0;32m----> 1\u001b[0m \u001b[43mvalidate_scaled\u001b[49m()\n",
      "\u001b[0;31mNameError\u001b[0m: name 'validate_scaled' is not defined"
     ]
    }
   ],
   "source": [
    "validate_scaled()"
   ]
  },
  {
   "cell_type": "code",
   "execution_count": null,
   "id": "8bfb13d4",
   "metadata": {},
   "outputs": [],
   "source": []
  }
 ],
 "metadata": {
  "kernelspec": {
   "display_name": "Python 3 (ipykernel)",
   "language": "python",
   "name": "python3"
  },
  "language_info": {
   "codemirror_mode": {
    "name": "ipython",
    "version": 3
   },
   "file_extension": ".py",
   "mimetype": "text/x-python",
   "name": "python",
   "nbconvert_exporter": "python",
   "pygments_lexer": "ipython3",
   "version": "3.9.12"
  }
 },
 "nbformat": 4,
 "nbformat_minor": 5
}
